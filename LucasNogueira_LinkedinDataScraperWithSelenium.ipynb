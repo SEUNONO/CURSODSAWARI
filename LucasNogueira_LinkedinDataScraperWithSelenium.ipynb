{
 "cells": [
  {
   "cell_type": "code",
   "execution_count": 1,
   "id": "b7930da5",
   "metadata": {},
   "outputs": [],
   "source": [
    "from selenium import webdriver\n",
    "import pandas as pd\n",
    "from time import sleep\n",
    "from selenium.webdriver.common.by import By"
   ]
  },
  {
   "cell_type": "markdown",
   "id": "afdf4e94",
   "metadata": {},
   "source": [
    "## 1.Declarando Variáveis"
   ]
  },
  {
   "cell_type": "code",
   "execution_count": 42,
   "id": "65fe6004",
   "metadata": {},
   "outputs": [],
   "source": [
    "URL = 'https://www.linkedin.com/jobs/data-scientist-vagas/?originalSubdomain=br'\n",
    "RESULTADOS = 'job-card-container'\n",
    "DESCRICAO = '/html/body/div[6]/div[3]/div[3]/div[2]/div/section[2]'\n",
    "JOB_TITLE = '/html/body/div[6]/div[3]/div[3]/div[2]/div/section[2]/div/div/div[1]/div/div[1]/div/div[2]/a/h2'\n",
    "COMPANY = '/html/body/div[6]/div[3]/div[3]/div[2]/div/section[2]/div/div/div[1]/div/div[1]/div/div[2]/div[1]/span[1]/span[1]/a'\n",
    "LOCAL = '/html/body/div[6]/div[3]/div[3]/div[2]/div/section[2]/div/div/div[1]/div/div[1]/div/div[2]/div[1]/span[1]/span[2]'"
   ]
  },
  {
   "cell_type": "markdown",
   "id": "ce61a753",
   "metadata": {},
   "source": [
    "## 2.Iniciando Instância do Chrome, Acessando URL Destino e Colentando Resultados"
   ]
  },
  {
   "cell_type": "code",
   "execution_count": 43,
   "id": "3bdbfdb8",
   "metadata": {},
   "outputs": [],
   "source": [
    "driver = webdriver.Chrome()"
   ]
  },
  {
   "cell_type": "code",
   "execution_count": 50,
   "id": "ecf2f541",
   "metadata": {},
   "outputs": [],
   "source": [
    "driver.get(URL)"
   ]
  },
  {
   "cell_type": "code",
   "execution_count": 52,
   "id": "03360725",
   "metadata": {},
   "outputs": [
    {
     "data": {
      "text/plain": [
       "7"
      ]
     },
     "execution_count": 52,
     "metadata": {},
     "output_type": "execute_result"
    }
   ],
   "source": [
    "resultados = driver.find_elements(By.CLASS_NAME, RESULTADOS)\n",
    "len(resultados)"
   ]
  },
  {
   "cell_type": "markdown",
   "id": "3a65ebb0",
   "metadata": {},
   "source": [
    "## 3. Loop For Colentando Dados e Populando Lista Final"
   ]
  },
  {
   "cell_type": "code",
   "execution_count": 53,
   "id": "8a327ada",
   "metadata": {},
   "outputs": [],
   "source": [
    "for r in resultados:\n",
    "    r.click()\n",
    "    sleep(1)\n",
    "    descricao = driver.find_element(By.XPATH, DESCRICAO).text\n",
    "    job_title = driver.find_element(By.XPATH, JOB_TITLE).text\n",
    "    company = driver.find_element(By.XPATH, COMPANY).text\n",
    "    local = driver.find_element(By.XPATH, LOCAL).text\n",
    "    \n",
    "    lista_final.append({\"job_title\": job_title,\n",
    "                            \"company\": company,\n",
    "                            \"local\": local,\n",
    "                            \"descricao\": descricao})"
   ]
  },
  {
   "cell_type": "markdown",
   "id": "d4cbaac9",
   "metadata": {},
   "source": [
    "## 4. Exportando Resultados para Excel e Encerrando Instância"
   ]
  },
  {
   "cell_type": "code",
   "execution_count": 54,
   "id": "51f5aca5",
   "metadata": {},
   "outputs": [],
   "source": [
    "pd.DataFrame(lista_final).to_excel(\"lista_final.xlsx\", index=False, )\n",
    "driver.close()"
   ]
  }
 ],
 "metadata": {
  "kernelspec": {
   "display_name": "Python 3 (ipykernel)",
   "language": "python",
   "name": "python3"
  },
  "language_info": {
   "codemirror_mode": {
    "name": "ipython",
    "version": 3
   },
   "file_extension": ".py",
   "mimetype": "text/x-python",
   "name": "python",
   "nbconvert_exporter": "python",
   "pygments_lexer": "ipython3",
   "version": "3.9.7"
  }
 },
 "nbformat": 4,
 "nbformat_minor": 5
}
